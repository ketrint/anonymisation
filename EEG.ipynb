{
  "cells": [
    {
      "cell_type": "markdown",
      "source": [
        "# Определения состояния глаз человека: открыты или закрыты\n",
        "\n",
        "**Данные**: временной ряд для нейроинтерфейса.\n",
        "\n",
        "**Задача**: по измерениям электроэнцефалограммы определить состояние глаз человека.\n",
        "\n",
        "В этом ноутбуке предложено сравнение качества классификации состояния глаз человека на реальном и синтетическом наборе данных.\n",
        "\n",
        "\n",
        "*Синтетический набор данных производится путем генерации временного ряда с помощью модели условной генеративно-состязательной сети  (Conditional GAN).*"
      ],
      "metadata": {
        "id": "hoGtOW-iy7Cg"
      },
      "id": "hoGtOW-iy7Cg"
    },
    {
      "cell_type": "markdown",
      "source": [
        "## Загрузка библиотек"
      ],
      "metadata": {
        "id": "dWR8OVhezhAB"
      },
      "id": "dWR8OVhezhAB"
    },
    {
      "cell_type": "code",
      "execution_count": 15,
      "id": "34d94d7c",
      "metadata": {
        "id": "34d94d7c"
      },
      "outputs": [],
      "source": [
        "from sklearn.metrics import confusion_matrix\n",
        "from tensorflow import keras\n",
        "import tensorflow as tf\n",
        "\n",
        "import pandas as pd\n",
        "import matplotlib.pyplot as plt\n",
        "import numpy as np\n",
        "import os\n",
        "\n",
        "import warnings\n",
        "warnings.filterwarnings('ignore')"
      ]
    },
    {
      "cell_type": "code",
      "source": [
        "!pip install tsgm"
      ],
      "metadata": {
        "id": "Gp76ysAVvZBO"
      },
      "id": "Gp76ysAVvZBO",
      "execution_count": null,
      "outputs": []
    },
    {
      "cell_type": "code",
      "source": [
        "import numpy as np\n",
        "import pandas as pd\n",
        "from scipy.io.arff import loadarff\n",
        "from sklearn.model_selection import train_test_split\n",
        "import tsgm"
      ],
      "metadata": {
        "id": "Iztr8ismurPk"
      },
      "id": "Iztr8ismurPk",
      "execution_count": 3,
      "outputs": []
    },
    {
      "cell_type": "markdown",
      "source": [
        "## Чтение данных"
      ],
      "metadata": {
        "id": "ILDtDWY4zogm"
      },
      "id": "ILDtDWY4zogm"
    },
    {
      "cell_type": "code",
      "source": [
        "raw_data = loadarff('EEG Eye State.arff')\n",
        "df = pd.DataFrame(raw_data[0])"
      ],
      "metadata": {
        "id": "T7rDofELlYF6"
      },
      "id": "T7rDofELlYF6",
      "execution_count": 5,
      "outputs": []
    },
    {
      "cell_type": "code",
      "source": [
        "df.head()"
      ],
      "metadata": {
        "colab": {
          "base_uri": "https://localhost:8080/",
          "height": 204
        },
        "id": "Sr97hIF6qLo9",
        "outputId": "7222fb24-8417-41e9-d6b8-c17d5f345705"
      },
      "id": "Sr97hIF6qLo9",
      "execution_count": 7,
      "outputs": [
        {
          "output_type": "execute_result",
          "data": {
            "text/plain": [
              "       AF3       F7       F3      FC5       T7       P7       O1       O2  \\\n",
              "0  4329.23  4009.23  4289.23  4148.21  4350.26  4586.15  4096.92  4641.03   \n",
              "1  4324.62  4004.62  4293.85  4148.72  4342.05  4586.67  4097.44  4638.97   \n",
              "2  4327.69  4006.67  4295.38  4156.41  4336.92  4583.59  4096.92  4630.26   \n",
              "3  4328.72  4011.79  4296.41  4155.90  4343.59  4582.56  4097.44  4630.77   \n",
              "4  4326.15  4011.79  4292.31  4151.28  4347.69  4586.67  4095.90  4627.69   \n",
              "\n",
              "        P8       T8      FC6       F4       F8      AF4 eyeDetection  \n",
              "0  4222.05  4238.46  4211.28  4280.51  4635.90  4393.85         b'0'  \n",
              "1  4210.77  4226.67  4207.69  4279.49  4632.82  4384.10         b'0'  \n",
              "2  4207.69  4222.05  4206.67  4282.05  4628.72  4389.23         b'0'  \n",
              "3  4217.44  4235.38  4210.77  4287.69  4632.31  4396.41         b'0'  \n",
              "4  4210.77  4244.10  4212.82  4288.21  4632.82  4398.46         b'0'  "
            ],
            "text/html": [
              "\n",
              "  <div id=\"df-ef2940f4-04c0-41ac-be48-105008a4dddc\" class=\"colab-df-container\">\n",
              "    <div>\n",
              "<style scoped>\n",
              "    .dataframe tbody tr th:only-of-type {\n",
              "        vertical-align: middle;\n",
              "    }\n",
              "\n",
              "    .dataframe tbody tr th {\n",
              "        vertical-align: top;\n",
              "    }\n",
              "\n",
              "    .dataframe thead th {\n",
              "        text-align: right;\n",
              "    }\n",
              "</style>\n",
              "<table border=\"1\" class=\"dataframe\">\n",
              "  <thead>\n",
              "    <tr style=\"text-align: right;\">\n",
              "      <th></th>\n",
              "      <th>AF3</th>\n",
              "      <th>F7</th>\n",
              "      <th>F3</th>\n",
              "      <th>FC5</th>\n",
              "      <th>T7</th>\n",
              "      <th>P7</th>\n",
              "      <th>O1</th>\n",
              "      <th>O2</th>\n",
              "      <th>P8</th>\n",
              "      <th>T8</th>\n",
              "      <th>FC6</th>\n",
              "      <th>F4</th>\n",
              "      <th>F8</th>\n",
              "      <th>AF4</th>\n",
              "      <th>eyeDetection</th>\n",
              "    </tr>\n",
              "  </thead>\n",
              "  <tbody>\n",
              "    <tr>\n",
              "      <th>0</th>\n",
              "      <td>4329.23</td>\n",
              "      <td>4009.23</td>\n",
              "      <td>4289.23</td>\n",
              "      <td>4148.21</td>\n",
              "      <td>4350.26</td>\n",
              "      <td>4586.15</td>\n",
              "      <td>4096.92</td>\n",
              "      <td>4641.03</td>\n",
              "      <td>4222.05</td>\n",
              "      <td>4238.46</td>\n",
              "      <td>4211.28</td>\n",
              "      <td>4280.51</td>\n",
              "      <td>4635.90</td>\n",
              "      <td>4393.85</td>\n",
              "      <td>b'0'</td>\n",
              "    </tr>\n",
              "    <tr>\n",
              "      <th>1</th>\n",
              "      <td>4324.62</td>\n",
              "      <td>4004.62</td>\n",
              "      <td>4293.85</td>\n",
              "      <td>4148.72</td>\n",
              "      <td>4342.05</td>\n",
              "      <td>4586.67</td>\n",
              "      <td>4097.44</td>\n",
              "      <td>4638.97</td>\n",
              "      <td>4210.77</td>\n",
              "      <td>4226.67</td>\n",
              "      <td>4207.69</td>\n",
              "      <td>4279.49</td>\n",
              "      <td>4632.82</td>\n",
              "      <td>4384.10</td>\n",
              "      <td>b'0'</td>\n",
              "    </tr>\n",
              "    <tr>\n",
              "      <th>2</th>\n",
              "      <td>4327.69</td>\n",
              "      <td>4006.67</td>\n",
              "      <td>4295.38</td>\n",
              "      <td>4156.41</td>\n",
              "      <td>4336.92</td>\n",
              "      <td>4583.59</td>\n",
              "      <td>4096.92</td>\n",
              "      <td>4630.26</td>\n",
              "      <td>4207.69</td>\n",
              "      <td>4222.05</td>\n",
              "      <td>4206.67</td>\n",
              "      <td>4282.05</td>\n",
              "      <td>4628.72</td>\n",
              "      <td>4389.23</td>\n",
              "      <td>b'0'</td>\n",
              "    </tr>\n",
              "    <tr>\n",
              "      <th>3</th>\n",
              "      <td>4328.72</td>\n",
              "      <td>4011.79</td>\n",
              "      <td>4296.41</td>\n",
              "      <td>4155.90</td>\n",
              "      <td>4343.59</td>\n",
              "      <td>4582.56</td>\n",
              "      <td>4097.44</td>\n",
              "      <td>4630.77</td>\n",
              "      <td>4217.44</td>\n",
              "      <td>4235.38</td>\n",
              "      <td>4210.77</td>\n",
              "      <td>4287.69</td>\n",
              "      <td>4632.31</td>\n",
              "      <td>4396.41</td>\n",
              "      <td>b'0'</td>\n",
              "    </tr>\n",
              "    <tr>\n",
              "      <th>4</th>\n",
              "      <td>4326.15</td>\n",
              "      <td>4011.79</td>\n",
              "      <td>4292.31</td>\n",
              "      <td>4151.28</td>\n",
              "      <td>4347.69</td>\n",
              "      <td>4586.67</td>\n",
              "      <td>4095.90</td>\n",
              "      <td>4627.69</td>\n",
              "      <td>4210.77</td>\n",
              "      <td>4244.10</td>\n",
              "      <td>4212.82</td>\n",
              "      <td>4288.21</td>\n",
              "      <td>4632.82</td>\n",
              "      <td>4398.46</td>\n",
              "      <td>b'0'</td>\n",
              "    </tr>\n",
              "  </tbody>\n",
              "</table>\n",
              "</div>\n",
              "    <div class=\"colab-df-buttons\">\n",
              "\n",
              "  <div class=\"colab-df-container\">\n",
              "    <button class=\"colab-df-convert\" onclick=\"convertToInteractive('df-ef2940f4-04c0-41ac-be48-105008a4dddc')\"\n",
              "            title=\"Convert this dataframe to an interactive table.\"\n",
              "            style=\"display:none;\">\n",
              "\n",
              "  <svg xmlns=\"http://www.w3.org/2000/svg\" height=\"24px\" viewBox=\"0 -960 960 960\">\n",
              "    <path d=\"M120-120v-720h720v720H120Zm60-500h600v-160H180v160Zm220 220h160v-160H400v160Zm0 220h160v-160H400v160ZM180-400h160v-160H180v160Zm440 0h160v-160H620v160ZM180-180h160v-160H180v160Zm440 0h160v-160H620v160Z\"/>\n",
              "  </svg>\n",
              "    </button>\n",
              "\n",
              "  <style>\n",
              "    .colab-df-container {\n",
              "      display:flex;\n",
              "      gap: 12px;\n",
              "    }\n",
              "\n",
              "    .colab-df-convert {\n",
              "      background-color: #E8F0FE;\n",
              "      border: none;\n",
              "      border-radius: 50%;\n",
              "      cursor: pointer;\n",
              "      display: none;\n",
              "      fill: #1967D2;\n",
              "      height: 32px;\n",
              "      padding: 0 0 0 0;\n",
              "      width: 32px;\n",
              "    }\n",
              "\n",
              "    .colab-df-convert:hover {\n",
              "      background-color: #E2EBFA;\n",
              "      box-shadow: 0px 1px 2px rgba(60, 64, 67, 0.3), 0px 1px 3px 1px rgba(60, 64, 67, 0.15);\n",
              "      fill: #174EA6;\n",
              "    }\n",
              "\n",
              "    .colab-df-buttons div {\n",
              "      margin-bottom: 4px;\n",
              "    }\n",
              "\n",
              "    [theme=dark] .colab-df-convert {\n",
              "      background-color: #3B4455;\n",
              "      fill: #D2E3FC;\n",
              "    }\n",
              "\n",
              "    [theme=dark] .colab-df-convert:hover {\n",
              "      background-color: #434B5C;\n",
              "      box-shadow: 0px 1px 3px 1px rgba(0, 0, 0, 0.15);\n",
              "      filter: drop-shadow(0px 1px 2px rgba(0, 0, 0, 0.3));\n",
              "      fill: #FFFFFF;\n",
              "    }\n",
              "  </style>\n",
              "\n",
              "    <script>\n",
              "      const buttonEl =\n",
              "        document.querySelector('#df-ef2940f4-04c0-41ac-be48-105008a4dddc button.colab-df-convert');\n",
              "      buttonEl.style.display =\n",
              "        google.colab.kernel.accessAllowed ? 'block' : 'none';\n",
              "\n",
              "      async function convertToInteractive(key) {\n",
              "        const element = document.querySelector('#df-ef2940f4-04c0-41ac-be48-105008a4dddc');\n",
              "        const dataTable =\n",
              "          await google.colab.kernel.invokeFunction('convertToInteractive',\n",
              "                                                    [key], {});\n",
              "        if (!dataTable) return;\n",
              "\n",
              "        const docLinkHtml = 'Like what you see? Visit the ' +\n",
              "          '<a target=\"_blank\" href=https://colab.research.google.com/notebooks/data_table.ipynb>data table notebook</a>'\n",
              "          + ' to learn more about interactive tables.';\n",
              "        element.innerHTML = '';\n",
              "        dataTable['output_type'] = 'display_data';\n",
              "        await google.colab.output.renderOutput(dataTable, element);\n",
              "        const docLink = document.createElement('div');\n",
              "        docLink.innerHTML = docLinkHtml;\n",
              "        element.appendChild(docLink);\n",
              "      }\n",
              "    </script>\n",
              "  </div>\n",
              "\n",
              "\n",
              "<div id=\"df-c066b61c-5065-4191-9944-ef9d225ad8db\">\n",
              "  <button class=\"colab-df-quickchart\" onclick=\"quickchart('df-c066b61c-5065-4191-9944-ef9d225ad8db')\"\n",
              "            title=\"Suggest charts.\"\n",
              "            style=\"display:none;\">\n",
              "\n",
              "<svg xmlns=\"http://www.w3.org/2000/svg\" height=\"24px\"viewBox=\"0 0 24 24\"\n",
              "     width=\"24px\">\n",
              "    <g>\n",
              "        <path d=\"M19 3H5c-1.1 0-2 .9-2 2v14c0 1.1.9 2 2 2h14c1.1 0 2-.9 2-2V5c0-1.1-.9-2-2-2zM9 17H7v-7h2v7zm4 0h-2V7h2v10zm4 0h-2v-4h2v4z\"/>\n",
              "    </g>\n",
              "</svg>\n",
              "  </button>\n",
              "\n",
              "<style>\n",
              "  .colab-df-quickchart {\n",
              "      --bg-color: #E8F0FE;\n",
              "      --fill-color: #1967D2;\n",
              "      --hover-bg-color: #E2EBFA;\n",
              "      --hover-fill-color: #174EA6;\n",
              "      --disabled-fill-color: #AAA;\n",
              "      --disabled-bg-color: #DDD;\n",
              "  }\n",
              "\n",
              "  [theme=dark] .colab-df-quickchart {\n",
              "      --bg-color: #3B4455;\n",
              "      --fill-color: #D2E3FC;\n",
              "      --hover-bg-color: #434B5C;\n",
              "      --hover-fill-color: #FFFFFF;\n",
              "      --disabled-bg-color: #3B4455;\n",
              "      --disabled-fill-color: #666;\n",
              "  }\n",
              "\n",
              "  .colab-df-quickchart {\n",
              "    background-color: var(--bg-color);\n",
              "    border: none;\n",
              "    border-radius: 50%;\n",
              "    cursor: pointer;\n",
              "    display: none;\n",
              "    fill: var(--fill-color);\n",
              "    height: 32px;\n",
              "    padding: 0;\n",
              "    width: 32px;\n",
              "  }\n",
              "\n",
              "  .colab-df-quickchart:hover {\n",
              "    background-color: var(--hover-bg-color);\n",
              "    box-shadow: 0 1px 2px rgba(60, 64, 67, 0.3), 0 1px 3px 1px rgba(60, 64, 67, 0.15);\n",
              "    fill: var(--button-hover-fill-color);\n",
              "  }\n",
              "\n",
              "  .colab-df-quickchart-complete:disabled,\n",
              "  .colab-df-quickchart-complete:disabled:hover {\n",
              "    background-color: var(--disabled-bg-color);\n",
              "    fill: var(--disabled-fill-color);\n",
              "    box-shadow: none;\n",
              "  }\n",
              "\n",
              "  .colab-df-spinner {\n",
              "    border: 2px solid var(--fill-color);\n",
              "    border-color: transparent;\n",
              "    border-bottom-color: var(--fill-color);\n",
              "    animation:\n",
              "      spin 1s steps(1) infinite;\n",
              "  }\n",
              "\n",
              "  @keyframes spin {\n",
              "    0% {\n",
              "      border-color: transparent;\n",
              "      border-bottom-color: var(--fill-color);\n",
              "      border-left-color: var(--fill-color);\n",
              "    }\n",
              "    20% {\n",
              "      border-color: transparent;\n",
              "      border-left-color: var(--fill-color);\n",
              "      border-top-color: var(--fill-color);\n",
              "    }\n",
              "    30% {\n",
              "      border-color: transparent;\n",
              "      border-left-color: var(--fill-color);\n",
              "      border-top-color: var(--fill-color);\n",
              "      border-right-color: var(--fill-color);\n",
              "    }\n",
              "    40% {\n",
              "      border-color: transparent;\n",
              "      border-right-color: var(--fill-color);\n",
              "      border-top-color: var(--fill-color);\n",
              "    }\n",
              "    60% {\n",
              "      border-color: transparent;\n",
              "      border-right-color: var(--fill-color);\n",
              "    }\n",
              "    80% {\n",
              "      border-color: transparent;\n",
              "      border-right-color: var(--fill-color);\n",
              "      border-bottom-color: var(--fill-color);\n",
              "    }\n",
              "    90% {\n",
              "      border-color: transparent;\n",
              "      border-bottom-color: var(--fill-color);\n",
              "    }\n",
              "  }\n",
              "</style>\n",
              "\n",
              "  <script>\n",
              "    async function quickchart(key) {\n",
              "      const quickchartButtonEl =\n",
              "        document.querySelector('#' + key + ' button');\n",
              "      quickchartButtonEl.disabled = true;  // To prevent multiple clicks.\n",
              "      quickchartButtonEl.classList.add('colab-df-spinner');\n",
              "      try {\n",
              "        const charts = await google.colab.kernel.invokeFunction(\n",
              "            'suggestCharts', [key], {});\n",
              "      } catch (error) {\n",
              "        console.error('Error during call to suggestCharts:', error);\n",
              "      }\n",
              "      quickchartButtonEl.classList.remove('colab-df-spinner');\n",
              "      quickchartButtonEl.classList.add('colab-df-quickchart-complete');\n",
              "    }\n",
              "    (() => {\n",
              "      let quickchartButtonEl =\n",
              "        document.querySelector('#df-c066b61c-5065-4191-9944-ef9d225ad8db button');\n",
              "      quickchartButtonEl.style.display =\n",
              "        google.colab.kernel.accessAllowed ? 'block' : 'none';\n",
              "    })();\n",
              "  </script>\n",
              "</div>\n",
              "    </div>\n",
              "  </div>\n"
            ]
          },
          "metadata": {},
          "execution_count": 7
        }
      ]
    },
    {
      "cell_type": "code",
      "source": [
        "closed = df[\"eyeDetection\"].unique()[0]\n",
        "open = df[\"eyeDetection\"].unique()[1]"
      ],
      "metadata": {
        "id": "CrMsjhq3zrsr"
      },
      "id": "CrMsjhq3zrsr",
      "execution_count": 8,
      "outputs": []
    },
    {
      "cell_type": "code",
      "source": [
        "df.replace({closed: 0, open: 1}, inplace=True)"
      ],
      "metadata": {
        "id": "NszjAAaSzToW"
      },
      "id": "NszjAAaSzToW",
      "execution_count": 9,
      "outputs": []
    },
    {
      "cell_type": "code",
      "source": [
        "X = df.drop(\"eyeDetection\", axis = 1)\n",
        "y = df[\"eyeDetection\"]"
      ],
      "metadata": {
        "id": "7bDy-GVDsUpR"
      },
      "id": "7bDy-GVDsUpR",
      "execution_count": 10,
      "outputs": []
    },
    {
      "cell_type": "code",
      "source": [
        "X_array = X.values"
      ],
      "metadata": {
        "id": "J4ZdvATXyX0V"
      },
      "id": "J4ZdvATXyX0V",
      "execution_count": 11,
      "outputs": []
    },
    {
      "cell_type": "code",
      "source": [
        "X_array.shape"
      ],
      "metadata": {
        "colab": {
          "base_uri": "https://localhost:8080/"
        },
        "id": "LPOCmCjW5KoI",
        "outputId": "ada249a6-af6f-4da1-faac-2f4a1972b5bc"
      },
      "id": "LPOCmCjW5KoI",
      "execution_count": 12,
      "outputs": [
        {
          "output_type": "execute_result",
          "data": {
            "text/plain": [
              "(14980, 14)"
            ]
          },
          "metadata": {},
          "execution_count": 12
        }
      ]
    },
    {
      "cell_type": "markdown",
      "source": [
        "## Создание синтетических данных"
      ],
      "metadata": {
        "id": "kYJcQVFV0Uhn"
      },
      "id": "kYJcQVFV0Uhn"
    },
    {
      "cell_type": "markdown",
      "source": [
        "### Предобработка данных"
      ],
      "metadata": {
        "id": "K-cx04d20Vh7"
      },
      "id": "K-cx04d20Vh7"
    },
    {
      "cell_type": "code",
      "source": [
        "X_array = X_array.reshape((X_array.shape[0], 1, X_array.shape[1]))"
      ],
      "metadata": {
        "id": "HSFQG4Ra0d7z"
      },
      "id": "HSFQG4Ra0d7z",
      "execution_count": 13,
      "outputs": []
    },
    {
      "cell_type": "code",
      "source": [
        "scaler = tsgm.utils.TSFeatureWiseScaler((-1, 1))\n",
        "X_array = scaler.fit_transform(X_array)\n",
        "y_keras = keras.utils.to_categorical(y, 2)\n",
        "\n",
        "X_array = X_array.astype(np.float32)\n",
        "y_keras = y_keras.astype(np.float32)"
      ],
      "metadata": {
        "id": "ZmZ60Z3tD5XU"
      },
      "id": "ZmZ60Z3tD5XU",
      "execution_count": 16,
      "outputs": []
    },
    {
      "cell_type": "code",
      "source": [
        "seq_len = X_array.shape[1]\n",
        "feature_dim = X_array.shape[2]\n",
        "latent_dim = 64\n",
        "output_dim = 2\n",
        "n_epochs = 200\n",
        "batch_size = 128"
      ],
      "metadata": {
        "id": "LvuVSoe50sv1"
      },
      "id": "LvuVSoe50sv1",
      "execution_count": 17,
      "outputs": []
    },
    {
      "cell_type": "markdown",
      "source": [
        "### Обучение модели генерации синтетических данных"
      ],
      "metadata": {
        "id": "1NP7OMs-0gf8"
      },
      "id": "1NP7OMs-0gf8"
    },
    {
      "cell_type": "code",
      "source": [
        "dataset = tf.data.Dataset.from_tensor_slices((X_array, y_keras))\n",
        "dataset = dataset.shuffle(buffer_size=1024).batch(batch_size)"
      ],
      "metadata": {
        "id": "ingOMmbOEnVl"
      },
      "id": "ingOMmbOEnVl",
      "execution_count": 18,
      "outputs": []
    },
    {
      "cell_type": "code",
      "source": [
        "architecture = tsgm.models.architectures.zoo[\"cgan_base_c4_l1\"](\n",
        "    seq_len=seq_len, feat_dim=feature_dim,\n",
        "    latent_dim=latent_dim, output_dim=output_dim)\n",
        "discriminator, generator = architecture.discriminator, architecture.generator\n",
        "\n",
        "cond_gan = tsgm.models.cgan.ConditionalGAN(\n",
        "    discriminator=discriminator, generator=generator, latent_dim=latent_dim\n",
        ")\n",
        "cond_gan.compile(\n",
        "    d_optimizer=keras.optimizers.Adam(learning_rate=0.0002, beta_1=0.5),\n",
        "    g_optimizer=keras.optimizers.Adam(learning_rate=0.0002, beta_1=0.5),\n",
        "    loss_fn=keras.losses.BinaryCrossentropy(),\n",
        ")\n",
        "\n",
        "cond_gan.fit(dataset, epochs=n_epochs)"
      ],
      "metadata": {
        "colab": {
          "base_uri": "https://localhost:8080/"
        },
        "id": "6H5XSmLt0qJB",
        "outputId": "303f8a52-edcc-465b-b45f-679be52bcc60"
      },
      "id": "6H5XSmLt0qJB",
      "execution_count": 19,
      "outputs": [
        {
          "output_type": "stream",
          "name": "stdout",
          "text": [
            "Epoch 1/200\n",
            "118/118 [==============================] - 17s 15ms/step - g_loss: 0.6890 - d_loss: 0.6774\n",
            "Epoch 2/200\n",
            "118/118 [==============================] - 2s 17ms/step - g_loss: 0.6933 - d_loss: 0.6934\n",
            "Epoch 3/200\n",
            "118/118 [==============================] - 2s 16ms/step - g_loss: 0.6956 - d_loss: 0.6934\n",
            "Epoch 4/200\n",
            "118/118 [==============================] - 1s 12ms/step - g_loss: 0.6950 - d_loss: 0.6934\n",
            "Epoch 5/200\n",
            "118/118 [==============================] - 1s 12ms/step - g_loss: 0.6951 - d_loss: 0.6933\n",
            "Epoch 6/200\n",
            "118/118 [==============================] - 2s 13ms/step - g_loss: 0.6944 - d_loss: 0.6933\n",
            "Epoch 7/200\n",
            "118/118 [==============================] - 2s 13ms/step - g_loss: 0.6955 - d_loss: 0.6932\n",
            "Epoch 8/200\n",
            "118/118 [==============================] - 1s 13ms/step - g_loss: 0.6952 - d_loss: 0.6931\n",
            "Epoch 9/200\n",
            "118/118 [==============================] - 1s 12ms/step - g_loss: 0.6925 - d_loss: 0.6930\n",
            "Epoch 10/200\n",
            "118/118 [==============================] - 1s 12ms/step - g_loss: 0.6942 - d_loss: 0.6931\n",
            "Epoch 11/200\n",
            "118/118 [==============================] - 1s 12ms/step - g_loss: 0.6961 - d_loss: 0.6930\n",
            "Epoch 12/200\n",
            "118/118 [==============================] - 2s 14ms/step - g_loss: 0.6932 - d_loss: 0.6931\n",
            "Epoch 13/200\n",
            "118/118 [==============================] - 1s 13ms/step - g_loss: 0.6938 - d_loss: 0.6931\n",
            "Epoch 14/200\n",
            "118/118 [==============================] - 1s 12ms/step - g_loss: 0.6939 - d_loss: 0.6930\n",
            "Epoch 15/200\n",
            "118/118 [==============================] - 1s 12ms/step - g_loss: 0.6945 - d_loss: 0.6930\n",
            "Epoch 16/200\n",
            "118/118 [==============================] - 1s 12ms/step - g_loss: 0.6941 - d_loss: 0.6931\n",
            "Epoch 17/200\n",
            "118/118 [==============================] - 3s 23ms/step - g_loss: 0.6932 - d_loss: 0.6932\n",
            "Epoch 18/200\n",
            "118/118 [==============================] - 3s 28ms/step - g_loss: 0.6940 - d_loss: 0.6930\n",
            "Epoch 19/200\n",
            "118/118 [==============================] - 3s 22ms/step - g_loss: 0.6949 - d_loss: 0.6930\n",
            "Epoch 20/200\n",
            "118/118 [==============================] - 2s 14ms/step - g_loss: 0.6954 - d_loss: 0.6931\n",
            "Epoch 21/200\n",
            "118/118 [==============================] - 1s 12ms/step - g_loss: 0.6947 - d_loss: 0.6930\n",
            "Epoch 22/200\n",
            "118/118 [==============================] - 2s 15ms/step - g_loss: 0.6943 - d_loss: 0.6931\n",
            "Epoch 23/200\n",
            "118/118 [==============================] - 2s 14ms/step - g_loss: 0.6949 - d_loss: 0.6930\n",
            "Epoch 24/200\n",
            "118/118 [==============================] - 1s 12ms/step - g_loss: 0.6960 - d_loss: 0.6932\n",
            "Epoch 25/200\n",
            "118/118 [==============================] - 2s 21ms/step - g_loss: 0.6964 - d_loss: 0.6928\n",
            "Epoch 26/200\n",
            "118/118 [==============================] - 3s 25ms/step - g_loss: 0.6954 - d_loss: 0.6929\n",
            "Epoch 27/200\n",
            "118/118 [==============================] - 2s 16ms/step - g_loss: 0.6961 - d_loss: 0.6930\n",
            "Epoch 28/200\n",
            "118/118 [==============================] - 2s 13ms/step - g_loss: 0.6948 - d_loss: 0.6934\n",
            "Epoch 29/200\n",
            "118/118 [==============================] - 1s 12ms/step - g_loss: 0.6934 - d_loss: 0.6932\n",
            "Epoch 30/200\n",
            "118/118 [==============================] - 2s 18ms/step - g_loss: 0.6944 - d_loss: 0.6932\n",
            "Epoch 31/200\n",
            "118/118 [==============================] - 3s 22ms/step - g_loss: 0.6949 - d_loss: 0.6931\n",
            "Epoch 32/200\n",
            "118/118 [==============================] - 2s 16ms/step - g_loss: 0.6939 - d_loss: 0.6931\n",
            "Epoch 33/200\n",
            "118/118 [==============================] - 2s 16ms/step - g_loss: 0.6946 - d_loss: 0.6930\n",
            "Epoch 34/200\n",
            "118/118 [==============================] - 2s 18ms/step - g_loss: 0.6942 - d_loss: 0.6931\n",
            "Epoch 35/200\n",
            "118/118 [==============================] - 4s 31ms/step - g_loss: 0.6942 - d_loss: 0.6932\n",
            "Epoch 36/200\n",
            "118/118 [==============================] - 4s 34ms/step - g_loss: 0.6930 - d_loss: 0.6932\n",
            "Epoch 37/200\n",
            "118/118 [==============================] - 3s 22ms/step - g_loss: 0.6917 - d_loss: 0.6931\n",
            "Epoch 38/200\n",
            "118/118 [==============================] - 2s 18ms/step - g_loss: 0.6922 - d_loss: 0.6933\n",
            "Epoch 39/200\n",
            "118/118 [==============================] - 3s 22ms/step - g_loss: 0.6929 - d_loss: 0.6932\n",
            "Epoch 40/200\n",
            "118/118 [==============================] - 3s 29ms/step - g_loss: 0.6921 - d_loss: 0.6932\n",
            "Epoch 41/200\n",
            "118/118 [==============================] - 2s 18ms/step - g_loss: 0.6937 - d_loss: 0.6932\n",
            "Epoch 42/200\n",
            "118/118 [==============================] - 2s 15ms/step - g_loss: 0.6931 - d_loss: 0.6932\n",
            "Epoch 43/200\n",
            "118/118 [==============================] - 3s 28ms/step - g_loss: 0.6929 - d_loss: 0.6932\n",
            "Epoch 44/200\n",
            "118/118 [==============================] - 3s 22ms/step - g_loss: 0.6929 - d_loss: 0.6932\n",
            "Epoch 45/200\n",
            "118/118 [==============================] - 2s 20ms/step - g_loss: 0.6931 - d_loss: 0.6932\n",
            "Epoch 46/200\n",
            "118/118 [==============================] - 3s 22ms/step - g_loss: 0.6927 - d_loss: 0.6932\n",
            "Epoch 47/200\n",
            "118/118 [==============================] - 3s 29ms/step - g_loss: 0.6918 - d_loss: 0.6932\n",
            "Epoch 48/200\n",
            "118/118 [==============================] - 3s 21ms/step - g_loss: 0.6916 - d_loss: 0.6932\n",
            "Epoch 49/200\n",
            "118/118 [==============================] - 2s 20ms/step - g_loss: 0.6915 - d_loss: 0.6932\n",
            "Epoch 50/200\n",
            "118/118 [==============================] - 2s 16ms/step - g_loss: 0.6916 - d_loss: 0.6932\n",
            "Epoch 51/200\n",
            "118/118 [==============================] - 1s 12ms/step - g_loss: 0.6920 - d_loss: 0.6932\n",
            "Epoch 52/200\n",
            "118/118 [==============================] - 1s 12ms/step - g_loss: 0.6932 - d_loss: 0.6932\n",
            "Epoch 53/200\n",
            "118/118 [==============================] - 2s 15ms/step - g_loss: 0.6924 - d_loss: 0.6932\n",
            "Epoch 54/200\n",
            "118/118 [==============================] - 3s 23ms/step - g_loss: 0.6937 - d_loss: 0.6932\n",
            "Epoch 55/200\n",
            "118/118 [==============================] - 2s 19ms/step - g_loss: 0.6938 - d_loss: 0.6931\n",
            "Epoch 56/200\n",
            "118/118 [==============================] - 1s 12ms/step - g_loss: 0.6921 - d_loss: 0.6932\n",
            "Epoch 57/200\n",
            "118/118 [==============================] - 1s 13ms/step - g_loss: 0.6931 - d_loss: 0.6932\n",
            "Epoch 58/200\n",
            "118/118 [==============================] - 1s 13ms/step - g_loss: 0.6932 - d_loss: 0.6932\n",
            "Epoch 59/200\n",
            "118/118 [==============================] - 3s 22ms/step - g_loss: 0.6925 - d_loss: 0.6931\n",
            "Epoch 60/200\n",
            "118/118 [==============================] - 2s 15ms/step - g_loss: 0.6937 - d_loss: 0.6931\n",
            "Epoch 61/200\n",
            "118/118 [==============================] - 2s 18ms/step - g_loss: 0.6930 - d_loss: 0.6930\n",
            "Epoch 62/200\n",
            "118/118 [==============================] - 2s 18ms/step - g_loss: 0.6950 - d_loss: 0.6932\n",
            "Epoch 63/200\n",
            "118/118 [==============================] - 2s 19ms/step - g_loss: 0.6957 - d_loss: 0.6933\n",
            "Epoch 64/200\n",
            "118/118 [==============================] - 2s 14ms/step - g_loss: 0.6951 - d_loss: 0.6932\n",
            "Epoch 65/200\n",
            "118/118 [==============================] - 3s 25ms/step - g_loss: 0.6932 - d_loss: 0.6929\n",
            "Epoch 66/200\n",
            "118/118 [==============================] - 2s 15ms/step - g_loss: 0.6967 - d_loss: 0.6933\n",
            "Epoch 67/200\n",
            "118/118 [==============================] - 1s 12ms/step - g_loss: 0.6958 - d_loss: 0.6929\n",
            "Epoch 68/200\n",
            "118/118 [==============================] - 1s 12ms/step - g_loss: 0.6938 - d_loss: 0.6931\n",
            "Epoch 69/200\n",
            "118/118 [==============================] - 2s 13ms/step - g_loss: 0.6902 - d_loss: 0.6934\n",
            "Epoch 70/200\n",
            "118/118 [==============================] - 1s 12ms/step - g_loss: 0.6942 - d_loss: 0.6930\n",
            "Epoch 71/200\n",
            "118/118 [==============================] - 1s 12ms/step - g_loss: 0.6943 - d_loss: 0.6931\n",
            "Epoch 72/200\n",
            "118/118 [==============================] - 2s 15ms/step - g_loss: 0.6940 - d_loss: 0.6932\n",
            "Epoch 73/200\n",
            "118/118 [==============================] - 1s 12ms/step - g_loss: 0.6930 - d_loss: 0.6931\n",
            "Epoch 74/200\n",
            "118/118 [==============================] - 1s 12ms/step - g_loss: 0.6920 - d_loss: 0.6932\n",
            "Epoch 75/200\n",
            "118/118 [==============================] - 1s 12ms/step - g_loss: 0.6925 - d_loss: 0.6931\n",
            "Epoch 76/200\n",
            "118/118 [==============================] - 1s 12ms/step - g_loss: 0.6916 - d_loss: 0.6931\n",
            "Epoch 77/200\n",
            "118/118 [==============================] - 2s 16ms/step - g_loss: 0.6937 - d_loss: 0.6931\n",
            "Epoch 78/200\n",
            "118/118 [==============================] - 2s 16ms/step - g_loss: 0.6919 - d_loss: 0.6932\n",
            "Epoch 79/200\n",
            "118/118 [==============================] - 2s 13ms/step - g_loss: 0.6925 - d_loss: 0.6932\n",
            "Epoch 80/200\n",
            "118/118 [==============================] - 1s 12ms/step - g_loss: 0.6928 - d_loss: 0.6932\n",
            "Epoch 81/200\n",
            "118/118 [==============================] - 1s 12ms/step - g_loss: 0.6935 - d_loss: 0.6932\n",
            "Epoch 82/200\n",
            "118/118 [==============================] - 1s 12ms/step - g_loss: 0.6926 - d_loss: 0.6931\n",
            "Epoch 83/200\n",
            "118/118 [==============================] - 1s 12ms/step - g_loss: 0.6940 - d_loss: 0.6929\n",
            "Epoch 84/200\n",
            "118/118 [==============================] - 1s 12ms/step - g_loss: 0.6952 - d_loss: 0.6929\n",
            "Epoch 85/200\n",
            "118/118 [==============================] - 2s 14ms/step - g_loss: 0.6917 - d_loss: 0.6931\n",
            "Epoch 86/200\n",
            "118/118 [==============================] - 1s 12ms/step - g_loss: 0.6934 - d_loss: 0.6929\n",
            "Epoch 87/200\n",
            "118/118 [==============================] - 1s 13ms/step - g_loss: 0.6943 - d_loss: 0.6930\n",
            "Epoch 88/200\n",
            "118/118 [==============================] - 1s 13ms/step - g_loss: 0.6939 - d_loss: 0.6933\n",
            "Epoch 89/200\n",
            "118/118 [==============================] - 1s 12ms/step - g_loss: 0.6972 - d_loss: 0.6932\n",
            "Epoch 90/200\n",
            "118/118 [==============================] - 2s 14ms/step - g_loss: 0.6930 - d_loss: 0.6933\n",
            "Epoch 91/200\n",
            "118/118 [==============================] - 1s 13ms/step - g_loss: 0.6934 - d_loss: 0.6932\n",
            "Epoch 92/200\n",
            "118/118 [==============================] - 1s 12ms/step - g_loss: 0.6949 - d_loss: 0.6932\n",
            "Epoch 93/200\n",
            "118/118 [==============================] - 1s 12ms/step - g_loss: 0.6938 - d_loss: 0.6932\n",
            "Epoch 94/200\n",
            "118/118 [==============================] - 1s 12ms/step - g_loss: 0.6935 - d_loss: 0.6931\n",
            "Epoch 95/200\n",
            "118/118 [==============================] - 1s 12ms/step - g_loss: 0.6924 - d_loss: 0.6932\n",
            "Epoch 96/200\n",
            "118/118 [==============================] - 1s 12ms/step - g_loss: 0.6919 - d_loss: 0.6932\n",
            "Epoch 97/200\n",
            "118/118 [==============================] - 2s 14ms/step - g_loss: 0.6924 - d_loss: 0.6931\n",
            "Epoch 98/200\n",
            "118/118 [==============================] - 2s 13ms/step - g_loss: 0.6923 - d_loss: 0.6931\n",
            "Epoch 99/200\n",
            "118/118 [==============================] - 2s 14ms/step - g_loss: 0.6925 - d_loss: 0.6932\n",
            "Epoch 100/200\n",
            "118/118 [==============================] - 2s 13ms/step - g_loss: 0.6944 - d_loss: 0.6932\n",
            "Epoch 101/200\n",
            "118/118 [==============================] - 1s 12ms/step - g_loss: 0.6936 - d_loss: 0.6932\n",
            "Epoch 102/200\n",
            "118/118 [==============================] - 1s 12ms/step - g_loss: 0.6922 - d_loss: 0.6931\n",
            "Epoch 103/200\n",
            "118/118 [==============================] - 1s 12ms/step - g_loss: 0.6942 - d_loss: 0.6931\n",
            "Epoch 104/200\n",
            "118/118 [==============================] - 2s 13ms/step - g_loss: 0.6976 - d_loss: 0.6930\n",
            "Epoch 105/200\n",
            "118/118 [==============================] - 1s 12ms/step - g_loss: 0.6937 - d_loss: 0.6932\n",
            "Epoch 106/200\n",
            "118/118 [==============================] - 1s 13ms/step - g_loss: 0.6950 - d_loss: 0.6937\n",
            "Epoch 107/200\n",
            "118/118 [==============================] - 1s 12ms/step - g_loss: 0.6941 - d_loss: 0.6930\n",
            "Epoch 108/200\n",
            "118/118 [==============================] - 1s 12ms/step - g_loss: 0.6902 - d_loss: 0.6930\n",
            "Epoch 109/200\n",
            "118/118 [==============================] - 1s 13ms/step - g_loss: 0.6920 - d_loss: 0.6931\n",
            "Epoch 110/200\n",
            "118/118 [==============================] - 2s 15ms/step - g_loss: 0.6945 - d_loss: 0.6930\n",
            "Epoch 111/200\n",
            "118/118 [==============================] - 2s 15ms/step - g_loss: 0.6941 - d_loss: 0.6932\n",
            "Epoch 112/200\n",
            "118/118 [==============================] - 1s 13ms/step - g_loss: 0.6928 - d_loss: 0.6931\n",
            "Epoch 113/200\n",
            "118/118 [==============================] - 2s 13ms/step - g_loss: 0.6928 - d_loss: 0.6932\n",
            "Epoch 114/200\n",
            "118/118 [==============================] - 1s 13ms/step - g_loss: 0.6931 - d_loss: 0.6931\n",
            "Epoch 115/200\n",
            "118/118 [==============================] - 1s 12ms/step - g_loss: 0.6925 - d_loss: 0.6932\n",
            "Epoch 116/200\n",
            "118/118 [==============================] - 2s 16ms/step - g_loss: 0.6923 - d_loss: 0.6931\n",
            "Epoch 117/200\n",
            "118/118 [==============================] - 2s 15ms/step - g_loss: 0.6923 - d_loss: 0.6931\n",
            "Epoch 118/200\n",
            "118/118 [==============================] - 2s 15ms/step - g_loss: 0.6937 - d_loss: 0.6931\n",
            "Epoch 119/200\n",
            "118/118 [==============================] - 2s 13ms/step - g_loss: 0.6933 - d_loss: 0.6931\n",
            "Epoch 120/200\n",
            "118/118 [==============================] - 1s 12ms/step - g_loss: 0.6925 - d_loss: 0.6931\n",
            "Epoch 121/200\n",
            "118/118 [==============================] - 1s 13ms/step - g_loss: 0.6907 - d_loss: 0.6931\n",
            "Epoch 122/200\n",
            "118/118 [==============================] - 1s 12ms/step - g_loss: 0.6922 - d_loss: 0.6931\n",
            "Epoch 123/200\n",
            "118/118 [==============================] - 1s 12ms/step - g_loss: 0.6950 - d_loss: 0.6932\n",
            "Epoch 124/200\n",
            "118/118 [==============================] - 2s 15ms/step - g_loss: 0.6937 - d_loss: 0.6932\n",
            "Epoch 125/200\n",
            "118/118 [==============================] - 1s 13ms/step - g_loss: 0.6930 - d_loss: 0.6931\n",
            "Epoch 126/200\n",
            "118/118 [==============================] - 1s 12ms/step - g_loss: 0.6947 - d_loss: 0.6932\n",
            "Epoch 127/200\n",
            "118/118 [==============================] - 1s 12ms/step - g_loss: 0.6947 - d_loss: 0.6929\n",
            "Epoch 128/200\n",
            "118/118 [==============================] - 1s 13ms/step - g_loss: 0.6923 - d_loss: 0.6932\n",
            "Epoch 129/200\n",
            "118/118 [==============================] - 1s 12ms/step - g_loss: 0.6892 - d_loss: 0.6931\n",
            "Epoch 130/200\n",
            "118/118 [==============================] - 2s 13ms/step - g_loss: 0.6940 - d_loss: 0.6929\n",
            "Epoch 131/200\n",
            "118/118 [==============================] - 2s 17ms/step - g_loss: 0.6927 - d_loss: 0.6931\n",
            "Epoch 132/200\n",
            "118/118 [==============================] - 2s 14ms/step - g_loss: 0.6923 - d_loss: 0.6932\n",
            "Epoch 133/200\n",
            "118/118 [==============================] - 2s 13ms/step - g_loss: 0.6924 - d_loss: 0.6931\n",
            "Epoch 134/200\n",
            "118/118 [==============================] - 1s 12ms/step - g_loss: 0.6934 - d_loss: 0.6930\n",
            "Epoch 135/200\n",
            "118/118 [==============================] - 1s 12ms/step - g_loss: 0.6944 - d_loss: 0.6931\n",
            "Epoch 136/200\n",
            "118/118 [==============================] - 1s 12ms/step - g_loss: 0.6947 - d_loss: 0.6931\n",
            "Epoch 137/200\n",
            "118/118 [==============================] - 2s 13ms/step - g_loss: 0.6947 - d_loss: 0.6931\n",
            "Epoch 138/200\n",
            "118/118 [==============================] - 2s 13ms/step - g_loss: 0.6942 - d_loss: 0.6931\n",
            "Epoch 139/200\n",
            "118/118 [==============================] - 2s 13ms/step - g_loss: 0.6947 - d_loss: 0.6931\n",
            "Epoch 140/200\n",
            "118/118 [==============================] - 2s 16ms/step - g_loss: 0.6929 - d_loss: 0.6931\n",
            "Epoch 141/200\n",
            "118/118 [==============================] - 1s 12ms/step - g_loss: 0.6937 - d_loss: 0.6931\n",
            "Epoch 142/200\n",
            "118/118 [==============================] - 2s 13ms/step - g_loss: 0.6960 - d_loss: 0.6931\n",
            "Epoch 143/200\n",
            "118/118 [==============================] - 1s 12ms/step - g_loss: 0.6933 - d_loss: 0.6931\n",
            "Epoch 144/200\n",
            "118/118 [==============================] - 2s 15ms/step - g_loss: 0.6944 - d_loss: 0.6931\n",
            "Epoch 145/200\n",
            "118/118 [==============================] - 1s 12ms/step - g_loss: 0.6947 - d_loss: 0.6931\n",
            "Epoch 146/200\n",
            "118/118 [==============================] - 1s 12ms/step - g_loss: 0.6956 - d_loss: 0.6931\n",
            "Epoch 147/200\n",
            "118/118 [==============================] - 1s 12ms/step - g_loss: 0.6936 - d_loss: 0.6930\n",
            "Epoch 148/200\n",
            "118/118 [==============================] - 1s 12ms/step - g_loss: 0.6936 - d_loss: 0.6931\n",
            "Epoch 149/200\n",
            "118/118 [==============================] - 2s 13ms/step - g_loss: 0.6907 - d_loss: 0.6931\n",
            "Epoch 150/200\n",
            "118/118 [==============================] - 2s 16ms/step - g_loss: 0.6909 - d_loss: 0.6931\n",
            "Epoch 151/200\n",
            "118/118 [==============================] - 2s 14ms/step - g_loss: 0.6885 - d_loss: 0.6931\n",
            "Epoch 152/200\n",
            "118/118 [==============================] - 2s 13ms/step - g_loss: 0.6889 - d_loss: 0.6932\n",
            "Epoch 153/200\n",
            "118/118 [==============================] - 1s 12ms/step - g_loss: 0.6907 - d_loss: 0.6931\n",
            "Epoch 154/200\n",
            "118/118 [==============================] - 1s 13ms/step - g_loss: 0.6927 - d_loss: 0.6931\n",
            "Epoch 155/200\n",
            "118/118 [==============================] - 1s 12ms/step - g_loss: 0.6932 - d_loss: 0.6930\n",
            "Epoch 156/200\n",
            "118/118 [==============================] - 2s 14ms/step - g_loss: 0.6933 - d_loss: 0.6931\n",
            "Epoch 157/200\n",
            "118/118 [==============================] - 2s 13ms/step - g_loss: 0.6925 - d_loss: 0.6930\n",
            "Epoch 158/200\n",
            "118/118 [==============================] - 1s 12ms/step - g_loss: 0.6930 - d_loss: 0.6931\n",
            "Epoch 159/200\n",
            "118/118 [==============================] - 1s 12ms/step - g_loss: 0.6921 - d_loss: 0.6931\n",
            "Epoch 160/200\n",
            "118/118 [==============================] - 1s 12ms/step - g_loss: 0.6927 - d_loss: 0.6931\n",
            "Epoch 161/200\n",
            "118/118 [==============================] - 1s 12ms/step - g_loss: 0.6929 - d_loss: 0.6931\n",
            "Epoch 162/200\n",
            "118/118 [==============================] - 1s 12ms/step - g_loss: 0.6938 - d_loss: 0.6931\n",
            "Epoch 163/200\n",
            "118/118 [==============================] - 2s 13ms/step - g_loss: 0.6934 - d_loss: 0.6931\n",
            "Epoch 164/200\n",
            "118/118 [==============================] - 2s 16ms/step - g_loss: 0.6934 - d_loss: 0.6931\n",
            "Epoch 165/200\n",
            "118/118 [==============================] - 2s 13ms/step - g_loss: 0.6940 - d_loss: 0.6931\n",
            "Epoch 166/200\n",
            "118/118 [==============================] - 2s 13ms/step - g_loss: 0.6942 - d_loss: 0.6931\n",
            "Epoch 167/200\n",
            "118/118 [==============================] - 1s 12ms/step - g_loss: 0.6908 - d_loss: 0.6931\n",
            "Epoch 168/200\n",
            "118/118 [==============================] - 1s 12ms/step - g_loss: 0.7511 - d_loss: 0.6928\n",
            "Epoch 169/200\n",
            "118/118 [==============================] - 1s 12ms/step - g_loss: 0.6976 - d_loss: 0.6928\n",
            "Epoch 170/200\n",
            "118/118 [==============================] - 2s 14ms/step - g_loss: 0.6997 - d_loss: 0.6925\n",
            "Epoch 171/200\n",
            "118/118 [==============================] - 2s 13ms/step - g_loss: 0.6856 - d_loss: 0.6929\n",
            "Epoch 172/200\n",
            "118/118 [==============================] - 1s 12ms/step - g_loss: 0.6960 - d_loss: 0.6931\n",
            "Epoch 173/200\n",
            "118/118 [==============================] - 1s 12ms/step - g_loss: 0.6940 - d_loss: 0.6934\n",
            "Epoch 174/200\n",
            "118/118 [==============================] - 1s 12ms/step - g_loss: 0.6949 - d_loss: 0.6932\n",
            "Epoch 175/200\n",
            "118/118 [==============================] - 2s 18ms/step - g_loss: 0.6975 - d_loss: 0.6931\n",
            "Epoch 176/200\n",
            "118/118 [==============================] - 2s 16ms/step - g_loss: 0.6930 - d_loss: 0.6931\n",
            "Epoch 177/200\n",
            "118/118 [==============================] - 3s 21ms/step - g_loss: 0.6932 - d_loss: 0.6931\n",
            "Epoch 178/200\n",
            "118/118 [==============================] - 2s 15ms/step - g_loss: 0.6932 - d_loss: 0.6931\n",
            "Epoch 179/200\n",
            "118/118 [==============================] - 3s 23ms/step - g_loss: 0.6964 - d_loss: 0.6930\n",
            "Epoch 180/200\n",
            "118/118 [==============================] - 2s 14ms/step - g_loss: 0.6930 - d_loss: 0.6929\n",
            "Epoch 181/200\n",
            "118/118 [==============================] - 2s 16ms/step - g_loss: 0.6949 - d_loss: 0.6929\n",
            "Epoch 182/200\n",
            "118/118 [==============================] - 1s 12ms/step - g_loss: 0.6937 - d_loss: 0.6929\n",
            "Epoch 183/200\n",
            "118/118 [==============================] - 2s 20ms/step - g_loss: 0.6904 - d_loss: 0.6931\n",
            "Epoch 184/200\n",
            "118/118 [==============================] - 2s 16ms/step - g_loss: 0.6940 - d_loss: 0.6929\n",
            "Epoch 185/200\n",
            "118/118 [==============================] - 2s 16ms/step - g_loss: 0.6931 - d_loss: 0.6931\n",
            "Epoch 186/200\n",
            "118/118 [==============================] - 2s 20ms/step - g_loss: 0.6940 - d_loss: 0.6931\n",
            "Epoch 187/200\n",
            "118/118 [==============================] - 2s 14ms/step - g_loss: 0.6935 - d_loss: 0.6931\n",
            "Epoch 188/200\n",
            "118/118 [==============================] - 2s 17ms/step - g_loss: 0.6928 - d_loss: 0.6930\n",
            "Epoch 189/200\n",
            "118/118 [==============================] - 2s 20ms/step - g_loss: 0.6900 - d_loss: 0.6932\n",
            "Epoch 190/200\n",
            "118/118 [==============================] - 2s 17ms/step - g_loss: 0.6932 - d_loss: 0.6930\n",
            "Epoch 191/200\n",
            "118/118 [==============================] - 2s 16ms/step - g_loss: 0.6949 - d_loss: 0.6932\n",
            "Epoch 192/200\n",
            "118/118 [==============================] - 3s 22ms/step - g_loss: 0.6940 - d_loss: 0.6931\n",
            "Epoch 193/200\n",
            "118/118 [==============================] - 2s 20ms/step - g_loss: 0.6946 - d_loss: 0.6930\n",
            "Epoch 194/200\n",
            "118/118 [==============================] - 1s 12ms/step - g_loss: 0.6942 - d_loss: 0.6930\n",
            "Epoch 195/200\n",
            "118/118 [==============================] - 1s 12ms/step - g_loss: 0.6937 - d_loss: 0.6932\n",
            "Epoch 196/200\n",
            "118/118 [==============================] - 2s 13ms/step - g_loss: 0.6930 - d_loss: 0.6930\n",
            "Epoch 197/200\n",
            "118/118 [==============================] - 1s 12ms/step - g_loss: 0.6906 - d_loss: 0.6931\n",
            "Epoch 198/200\n",
            "118/118 [==============================] - 2s 14ms/step - g_loss: 0.6932 - d_loss: 0.6931\n",
            "Epoch 199/200\n",
            "118/118 [==============================] - 1s 12ms/step - g_loss: 0.6943 - d_loss: 0.6930\n",
            "Epoch 200/200\n",
            "118/118 [==============================] - 1s 12ms/step - g_loss: 0.6943 - d_loss: 0.6931\n"
          ]
        },
        {
          "output_type": "execute_result",
          "data": {
            "text/plain": [
              "<keras.src.callbacks.History at 0x7952e663ba00>"
            ]
          },
          "metadata": {},
          "execution_count": 19
        }
      ]
    },
    {
      "cell_type": "code",
      "source": [
        "X_gen = cond_gan.generate(y_keras)\n",
        "X_gen = X_gen.numpy()\n",
        "y_gen = y_keras"
      ],
      "metadata": {
        "id": "y6zRubLSOwIK"
      },
      "id": "y6zRubLSOwIK",
      "execution_count": 20,
      "outputs": []
    },
    {
      "cell_type": "code",
      "source": [
        "type(X_gen)"
      ],
      "metadata": {
        "colab": {
          "base_uri": "https://localhost:8080/"
        },
        "id": "eKNVjFMlzKmz",
        "outputId": "16ccb30c-a65d-4891-a916-a7e81113af7e"
      },
      "id": "eKNVjFMlzKmz",
      "execution_count": 21,
      "outputs": [
        {
          "output_type": "execute_result",
          "data": {
            "text/plain": [
              "numpy.ndarray"
            ]
          },
          "metadata": {},
          "execution_count": 21
        }
      ]
    },
    {
      "cell_type": "code",
      "source": [
        "np.save(\"generated.npy\", X_gen)"
      ],
      "metadata": {
        "id": "2QLZkNf2zNfN"
      },
      "id": "2QLZkNf2zNfN",
      "execution_count": 22,
      "outputs": []
    },
    {
      "cell_type": "markdown",
      "source": [
        "## Обучение базового классификатора"
      ],
      "metadata": {
        "id": "GVu8u__z0t-y"
      },
      "id": "GVu8u__z0t-y"
    },
    {
      "cell_type": "code",
      "source": [
        "X_gen = np.load(\"generated.npy\")"
      ],
      "metadata": {
        "id": "rOxFzSov2a-h"
      },
      "id": "rOxFzSov2a-h",
      "execution_count": 12,
      "outputs": []
    },
    {
      "cell_type": "code",
      "source": [
        "X_train, X_test, y_train, y_test = train_test_split(X_array, y, test_size=0.1, random_state=33)"
      ],
      "metadata": {
        "id": "iW0fqxb9um1K"
      },
      "id": "iW0fqxb9um1K",
      "execution_count": 24,
      "outputs": []
    },
    {
      "cell_type": "code",
      "source": [
        "X_train = X_train.reshape(X_train.shape[0], 14)\n",
        "X_gen = X_gen.reshape(X_gen.shape[0], 14)\n",
        "X_test = X_test.reshape(X_test.shape[0], 14)"
      ],
      "metadata": {
        "id": "txgN505Ceda3"
      },
      "id": "txgN505Ceda3",
      "execution_count": 25,
      "outputs": []
    },
    {
      "cell_type": "markdown",
      "source": [
        "### на оригинальных данных"
      ],
      "metadata": {
        "id": "EMCnsCtNSAbN"
      },
      "id": "EMCnsCtNSAbN"
    },
    {
      "cell_type": "code",
      "source": [
        "from sklearn.tree import DecisionTreeClassifier\n",
        "classifier = DecisionTreeClassifier()\n",
        "classifier.fit(X_train, y_train)"
      ],
      "metadata": {
        "colab": {
          "base_uri": "https://localhost:8080/",
          "height": 74
        },
        "id": "3MpP-umE4Fme",
        "outputId": "51fd09cf-a989-4c45-8ad5-65632aeef00c"
      },
      "id": "3MpP-umE4Fme",
      "execution_count": 26,
      "outputs": [
        {
          "output_type": "execute_result",
          "data": {
            "text/plain": [
              "DecisionTreeClassifier()"
            ],
            "text/html": [
              "<style>#sk-container-id-1 {color: black;background-color: white;}#sk-container-id-1 pre{padding: 0;}#sk-container-id-1 div.sk-toggleable {background-color: white;}#sk-container-id-1 label.sk-toggleable__label {cursor: pointer;display: block;width: 100%;margin-bottom: 0;padding: 0.3em;box-sizing: border-box;text-align: center;}#sk-container-id-1 label.sk-toggleable__label-arrow:before {content: \"▸\";float: left;margin-right: 0.25em;color: #696969;}#sk-container-id-1 label.sk-toggleable__label-arrow:hover:before {color: black;}#sk-container-id-1 div.sk-estimator:hover label.sk-toggleable__label-arrow:before {color: black;}#sk-container-id-1 div.sk-toggleable__content {max-height: 0;max-width: 0;overflow: hidden;text-align: left;background-color: #f0f8ff;}#sk-container-id-1 div.sk-toggleable__content pre {margin: 0.2em;color: black;border-radius: 0.25em;background-color: #f0f8ff;}#sk-container-id-1 input.sk-toggleable__control:checked~div.sk-toggleable__content {max-height: 200px;max-width: 100%;overflow: auto;}#sk-container-id-1 input.sk-toggleable__control:checked~label.sk-toggleable__label-arrow:before {content: \"▾\";}#sk-container-id-1 div.sk-estimator input.sk-toggleable__control:checked~label.sk-toggleable__label {background-color: #d4ebff;}#sk-container-id-1 div.sk-label input.sk-toggleable__control:checked~label.sk-toggleable__label {background-color: #d4ebff;}#sk-container-id-1 input.sk-hidden--visually {border: 0;clip: rect(1px 1px 1px 1px);clip: rect(1px, 1px, 1px, 1px);height: 1px;margin: -1px;overflow: hidden;padding: 0;position: absolute;width: 1px;}#sk-container-id-1 div.sk-estimator {font-family: monospace;background-color: #f0f8ff;border: 1px dotted black;border-radius: 0.25em;box-sizing: border-box;margin-bottom: 0.5em;}#sk-container-id-1 div.sk-estimator:hover {background-color: #d4ebff;}#sk-container-id-1 div.sk-parallel-item::after {content: \"\";width: 100%;border-bottom: 1px solid gray;flex-grow: 1;}#sk-container-id-1 div.sk-label:hover label.sk-toggleable__label {background-color: #d4ebff;}#sk-container-id-1 div.sk-serial::before {content: \"\";position: absolute;border-left: 1px solid gray;box-sizing: border-box;top: 0;bottom: 0;left: 50%;z-index: 0;}#sk-container-id-1 div.sk-serial {display: flex;flex-direction: column;align-items: center;background-color: white;padding-right: 0.2em;padding-left: 0.2em;position: relative;}#sk-container-id-1 div.sk-item {position: relative;z-index: 1;}#sk-container-id-1 div.sk-parallel {display: flex;align-items: stretch;justify-content: center;background-color: white;position: relative;}#sk-container-id-1 div.sk-item::before, #sk-container-id-1 div.sk-parallel-item::before {content: \"\";position: absolute;border-left: 1px solid gray;box-sizing: border-box;top: 0;bottom: 0;left: 50%;z-index: -1;}#sk-container-id-1 div.sk-parallel-item {display: flex;flex-direction: column;z-index: 1;position: relative;background-color: white;}#sk-container-id-1 div.sk-parallel-item:first-child::after {align-self: flex-end;width: 50%;}#sk-container-id-1 div.sk-parallel-item:last-child::after {align-self: flex-start;width: 50%;}#sk-container-id-1 div.sk-parallel-item:only-child::after {width: 0;}#sk-container-id-1 div.sk-dashed-wrapped {border: 1px dashed gray;margin: 0 0.4em 0.5em 0.4em;box-sizing: border-box;padding-bottom: 0.4em;background-color: white;}#sk-container-id-1 div.sk-label label {font-family: monospace;font-weight: bold;display: inline-block;line-height: 1.2em;}#sk-container-id-1 div.sk-label-container {text-align: center;}#sk-container-id-1 div.sk-container {/* jupyter's `normalize.less` sets `[hidden] { display: none; }` but bootstrap.min.css set `[hidden] { display: none !important; }` so we also need the `!important` here to be able to override the default hidden behavior on the sphinx rendered scikit-learn.org. See: https://github.com/scikit-learn/scikit-learn/issues/21755 */display: inline-block !important;position: relative;}#sk-container-id-1 div.sk-text-repr-fallback {display: none;}</style><div id=\"sk-container-id-1\" class=\"sk-top-container\"><div class=\"sk-text-repr-fallback\"><pre>DecisionTreeClassifier()</pre><b>In a Jupyter environment, please rerun this cell to show the HTML representation or trust the notebook. <br />On GitHub, the HTML representation is unable to render, please try loading this page with nbviewer.org.</b></div><div class=\"sk-container\" hidden><div class=\"sk-item\"><div class=\"sk-estimator sk-toggleable\"><input class=\"sk-toggleable__control sk-hidden--visually\" id=\"sk-estimator-id-1\" type=\"checkbox\" checked><label for=\"sk-estimator-id-1\" class=\"sk-toggleable__label sk-toggleable__label-arrow\">DecisionTreeClassifier</label><div class=\"sk-toggleable__content\"><pre>DecisionTreeClassifier()</pre></div></div></div></div></div>"
            ]
          },
          "metadata": {},
          "execution_count": 26
        }
      ]
    },
    {
      "cell_type": "code",
      "source": [
        "y_pred = classifier.predict(X_test)"
      ],
      "metadata": {
        "id": "plOPP-Nt4I7k"
      },
      "id": "plOPP-Nt4I7k",
      "execution_count": 27,
      "outputs": []
    },
    {
      "cell_type": "code",
      "source": [
        "from sklearn import metrics\n",
        "from sklearn.metrics import confusion_matrix\n",
        "cm = confusion_matrix(y_test, y_pred)\n",
        "print(cm)\n",
        "accuracy = metrics.accuracy_score(y_test, y_pred)\n",
        "print(\"Accuracy score on original data:\",accuracy)\n",
        "precision = metrics.precision_score(y_test, y_pred)\n",
        "print(\"Precision score on original data:\",precision)\n",
        "recall = metrics.recall_score(y_test, y_pred)\n",
        "print(\"Recall score on original data:\",recall)"
      ],
      "metadata": {
        "colab": {
          "base_uri": "https://localhost:8080/"
        },
        "id": "hYNL_r404ixI",
        "outputId": "8064b729-2c90-4e36-db6b-bb09352b1068"
      },
      "id": "hYNL_r404ixI",
      "execution_count": 28,
      "outputs": [
        {
          "output_type": "stream",
          "name": "stdout",
          "text": [
            "[[709 109]\n",
            " [136 544]]\n",
            "Accuracy score: 0.8364485981308412\n",
            "Precision score: 0.8330781010719756\n",
            "Recall score: 0.8\n"
          ]
        }
      ]
    },
    {
      "cell_type": "markdown",
      "source": [
        "### на синтетических данных"
      ],
      "metadata": {
        "id": "bfCDn4_pSFHM"
      },
      "id": "bfCDn4_pSFHM"
    },
    {
      "cell_type": "code",
      "source": [
        "X_gen_train, X_gen_test, y_gen_train, y_gen_test = train_test_split(X_gen, y, test_size=0.1, random_state=33)"
      ],
      "metadata": {
        "id": "YIPWAwagfrId"
      },
      "id": "YIPWAwagfrId",
      "execution_count": 29,
      "outputs": []
    },
    {
      "cell_type": "code",
      "source": [
        "classifier = DecisionTreeClassifier()\n",
        "classifier.fit(X_gen_train, y_gen_train)"
      ],
      "metadata": {
        "id": "SgWKT1Nolt4P",
        "colab": {
          "base_uri": "https://localhost:8080/",
          "height": 74
        },
        "outputId": "ef7aeae8-9223-46af-faa2-2964f2434010"
      },
      "id": "SgWKT1Nolt4P",
      "execution_count": 30,
      "outputs": [
        {
          "output_type": "execute_result",
          "data": {
            "text/plain": [
              "DecisionTreeClassifier()"
            ],
            "text/html": [
              "<style>#sk-container-id-2 {color: black;background-color: white;}#sk-container-id-2 pre{padding: 0;}#sk-container-id-2 div.sk-toggleable {background-color: white;}#sk-container-id-2 label.sk-toggleable__label {cursor: pointer;display: block;width: 100%;margin-bottom: 0;padding: 0.3em;box-sizing: border-box;text-align: center;}#sk-container-id-2 label.sk-toggleable__label-arrow:before {content: \"▸\";float: left;margin-right: 0.25em;color: #696969;}#sk-container-id-2 label.sk-toggleable__label-arrow:hover:before {color: black;}#sk-container-id-2 div.sk-estimator:hover label.sk-toggleable__label-arrow:before {color: black;}#sk-container-id-2 div.sk-toggleable__content {max-height: 0;max-width: 0;overflow: hidden;text-align: left;background-color: #f0f8ff;}#sk-container-id-2 div.sk-toggleable__content pre {margin: 0.2em;color: black;border-radius: 0.25em;background-color: #f0f8ff;}#sk-container-id-2 input.sk-toggleable__control:checked~div.sk-toggleable__content {max-height: 200px;max-width: 100%;overflow: auto;}#sk-container-id-2 input.sk-toggleable__control:checked~label.sk-toggleable__label-arrow:before {content: \"▾\";}#sk-container-id-2 div.sk-estimator input.sk-toggleable__control:checked~label.sk-toggleable__label {background-color: #d4ebff;}#sk-container-id-2 div.sk-label input.sk-toggleable__control:checked~label.sk-toggleable__label {background-color: #d4ebff;}#sk-container-id-2 input.sk-hidden--visually {border: 0;clip: rect(1px 1px 1px 1px);clip: rect(1px, 1px, 1px, 1px);height: 1px;margin: -1px;overflow: hidden;padding: 0;position: absolute;width: 1px;}#sk-container-id-2 div.sk-estimator {font-family: monospace;background-color: #f0f8ff;border: 1px dotted black;border-radius: 0.25em;box-sizing: border-box;margin-bottom: 0.5em;}#sk-container-id-2 div.sk-estimator:hover {background-color: #d4ebff;}#sk-container-id-2 div.sk-parallel-item::after {content: \"\";width: 100%;border-bottom: 1px solid gray;flex-grow: 1;}#sk-container-id-2 div.sk-label:hover label.sk-toggleable__label {background-color: #d4ebff;}#sk-container-id-2 div.sk-serial::before {content: \"\";position: absolute;border-left: 1px solid gray;box-sizing: border-box;top: 0;bottom: 0;left: 50%;z-index: 0;}#sk-container-id-2 div.sk-serial {display: flex;flex-direction: column;align-items: center;background-color: white;padding-right: 0.2em;padding-left: 0.2em;position: relative;}#sk-container-id-2 div.sk-item {position: relative;z-index: 1;}#sk-container-id-2 div.sk-parallel {display: flex;align-items: stretch;justify-content: center;background-color: white;position: relative;}#sk-container-id-2 div.sk-item::before, #sk-container-id-2 div.sk-parallel-item::before {content: \"\";position: absolute;border-left: 1px solid gray;box-sizing: border-box;top: 0;bottom: 0;left: 50%;z-index: -1;}#sk-container-id-2 div.sk-parallel-item {display: flex;flex-direction: column;z-index: 1;position: relative;background-color: white;}#sk-container-id-2 div.sk-parallel-item:first-child::after {align-self: flex-end;width: 50%;}#sk-container-id-2 div.sk-parallel-item:last-child::after {align-self: flex-start;width: 50%;}#sk-container-id-2 div.sk-parallel-item:only-child::after {width: 0;}#sk-container-id-2 div.sk-dashed-wrapped {border: 1px dashed gray;margin: 0 0.4em 0.5em 0.4em;box-sizing: border-box;padding-bottom: 0.4em;background-color: white;}#sk-container-id-2 div.sk-label label {font-family: monospace;font-weight: bold;display: inline-block;line-height: 1.2em;}#sk-container-id-2 div.sk-label-container {text-align: center;}#sk-container-id-2 div.sk-container {/* jupyter's `normalize.less` sets `[hidden] { display: none; }` but bootstrap.min.css set `[hidden] { display: none !important; }` so we also need the `!important` here to be able to override the default hidden behavior on the sphinx rendered scikit-learn.org. See: https://github.com/scikit-learn/scikit-learn/issues/21755 */display: inline-block !important;position: relative;}#sk-container-id-2 div.sk-text-repr-fallback {display: none;}</style><div id=\"sk-container-id-2\" class=\"sk-top-container\"><div class=\"sk-text-repr-fallback\"><pre>DecisionTreeClassifier()</pre><b>In a Jupyter environment, please rerun this cell to show the HTML representation or trust the notebook. <br />On GitHub, the HTML representation is unable to render, please try loading this page with nbviewer.org.</b></div><div class=\"sk-container\" hidden><div class=\"sk-item\"><div class=\"sk-estimator sk-toggleable\"><input class=\"sk-toggleable__control sk-hidden--visually\" id=\"sk-estimator-id-2\" type=\"checkbox\" checked><label for=\"sk-estimator-id-2\" class=\"sk-toggleable__label sk-toggleable__label-arrow\">DecisionTreeClassifier</label><div class=\"sk-toggleable__content\"><pre>DecisionTreeClassifier()</pre></div></div></div></div></div>"
            ]
          },
          "metadata": {},
          "execution_count": 30
        }
      ]
    },
    {
      "cell_type": "code",
      "source": [
        "y_gen_pred = classifier.predict(X_gen_test)"
      ],
      "metadata": {
        "id": "GLpZVxja-dqP"
      },
      "id": "GLpZVxja-dqP",
      "execution_count": 31,
      "outputs": []
    },
    {
      "cell_type": "code",
      "source": [
        "cm = confusion_matrix(y_test, y_pred)\n",
        "print(cm)\n",
        "accuracy = metrics.accuracy_score(y_gen_test, y_gen_pred)\n",
        "print(\"Accuracy score on synthetic data:\",accuracy)\n",
        "precision = metrics.precision_score(y_gen_test, y_gen_pred)\n",
        "print(\"Precision score on synthetic data:\",precision)\n",
        "recall = metrics.recall_score(y_gen_test, y_gen_pred)\n",
        "print(\"Recall score on synthetic data:\",recall)"
      ],
      "metadata": {
        "colab": {
          "base_uri": "https://localhost:8080/"
        },
        "id": "godGn5bE-k9V",
        "outputId": "8f29cf04-5ad4-4f92-9b5a-06b23e8d51c4"
      },
      "id": "godGn5bE-k9V",
      "execution_count": 32,
      "outputs": [
        {
          "output_type": "stream",
          "name": "stdout",
          "text": [
            "[[709 109]\n",
            " [136 544]]\n",
            "Accuracy score on synthetic data: 0.9753004005340454\n",
            "Precision score on synthetic data: 0.9762962962962963\n",
            "Recall score on synthetic data: 0.9691176470588235\n"
          ]
        }
      ]
    }
  ],
  "metadata": {
    "kernelspec": {
      "display_name": "Python [conda env:ML_base]",
      "language": "python",
      "name": "conda-env-ML_base-py"
    },
    "language_info": {
      "codemirror_mode": {
        "name": "ipython",
        "version": 3
      },
      "file_extension": ".py",
      "mimetype": "text/x-python",
      "name": "python",
      "nbconvert_exporter": "python",
      "pygments_lexer": "ipython3",
      "version": "3.9.7"
    },
    "colab": {
      "provenance": []
    },
    "accelerator": "GPU"
  },
  "nbformat": 4,
  "nbformat_minor": 5
}